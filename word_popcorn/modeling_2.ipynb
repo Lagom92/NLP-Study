{
 "nbformat": 4,
 "nbformat_minor": 2,
 "metadata": {
  "language_info": {
   "name": "python",
   "codemirror_mode": {
    "name": "ipython",
    "version": 3
   },
   "version": "3.7.6-final"
  },
  "orig_nbformat": 2,
  "file_extension": ".py",
  "mimetype": "text/x-python",
  "name": "python",
  "npconvert_exporter": "python",
  "pygments_lexer": "ipython3",
  "version": 3,
  "kernelspec": {
   "name": "python37664bitnlpconda2e37df55ef7041bb8d56bf0ba20910ea",
   "display_name": "Python 3.7.6 64-bit ('NLP': conda)"
  }
 },
 "cells": [
  {
   "cell_type": "markdown",
   "metadata": {},
   "source": [
    "# 모델링 구현"
   ]
  },
  {
   "cell_type": "markdown",
   "metadata": {},
   "source": [
    "## word2vec을 활용한 모델 구현"
   ]
  },
  {
   "cell_type": "markdown",
   "metadata": {},
   "source": [
    "- 각 단어에 대해 word2vec으로 벡터화\n",
    "- 전처리된 데이터를 불러온 후 각 단어들의 리스트로 나눠야 함"
   ]
  },
  {
   "cell_type": "code",
   "execution_count": 15,
   "metadata": {},
   "outputs": [],
   "source": [
    "import pandas as pd\n",
    "import numpy as np"
   ]
  },
  {
   "cell_type": "code",
   "execution_count": 8,
   "metadata": {},
   "outputs": [],
   "source": [
    "DATA_IN_PATH = './data_in/'\n",
    "TRAIN_CLEAN_DATA = 'train_clean.csv'\n",
    "train_data = pd.read_csv(DATA_IN_PATH + TRAIN_CLEAN_DATA)\n",
    "\n",
    "reviews = list(train_data['review'])\n",
    "sentiments = list(train_data['sentiment'])\n",
    "\n",
    "sentences = []\n",
    "for review in reviews:\n",
    "    sentences.append(review.split())"
   ]
  },
  {
   "cell_type": "markdown",
   "metadata": {},
   "source": [
    "- 전처리한 데이터의 경우 리뷰가 하나의 문자열로 구성되어 있음\n",
    "- word2vec를 사용하기 위해서는 입력값을 단어로 구분된 리스트로 만들어야함"
   ]
  },
  {
   "cell_type": "markdown",
   "metadata": {},
   "source": [
    "### word2vec 벡터화"
   ]
  },
  {
   "cell_type": "code",
   "execution_count": 9,
   "metadata": {},
   "outputs": [],
   "source": [
    "# word2vec 모델의 하이퍼파라미터 설정\n",
    "# 학습 시 필요한 하이퍼파라미터\n",
    "num_features = 300\n",
    "min_word_count = 40\n",
    "num_workers = 4\n",
    "context = 10\n",
    "downsampling = 1e-3"
   ]
  },
  {
   "cell_type": "markdown",
   "metadata": {},
   "source": [
    "- num_features\n",
    "    - 워드 벡터 특징값 수\n",
    "    - 각 단어에 대해 임베딩된 벡터의 차원을 정한다.\n",
    "\n",
    "- min_word_count\n",
    "    - 단어에 대한 최소 빈도 수\n",
    "    - 모델에 의미 있는 단어를 가지고 학습하기 위해 적은 빈도 수의 단어들은 학습하지 않는다.\n",
    "    \n",
    "- num_workers\n",
    "    - 프로세스 개수\n",
    "    - 모델 학습 시 학습을 위한 프로세스 개수를 지정한다.\n",
    "\n",
    "- context\n",
    "    - 컨텍스트 윈도우 크기\n",
    "    - word2vec을 수행하기 위한 컨텍스트 윈도우 크기를 지정한다.\n",
    "\n",
    "- downsampling\n",
    "    - 다운 샘플링 비율\n",
    "    - word2vec 학습을 수행할 때 빠른 학습을 위해 정답 단어 라벨에 대한 다운샘플링 비율을 지정한다. 보통 0.001이 좋은 성능을 낸다고 한다."
   ]
  },
  {
   "cell_type": "code",
   "execution_count": 10,
   "metadata": {},
   "outputs": [],
   "source": [
    "import logging\n",
    "logging.basicConfig(format='%(asctime)s : %(levelname)s : %(message)s', level=logging.INFO)"
   ]
  },
  {
   "cell_type": "markdown",
   "metadata": {},
   "source": [
    "- 로깅을 할 때 format을 위와 같이 지정하고 로그 수준은 INFO에 맞추면 word2vec의 학습 과정에서 로그 메세지를 양식에 맞게 INFO 수준으로 보여준다"
   ]
  },
  {
   "cell_type": "markdown",
   "metadata": {},
   "source": [
    "- word2vec 모듈에 있는 Word2Vec 객체를 생성해서 실행\n",
    "- 학습하고 생성된 객체는 model 변수에 할당"
   ]
  },
  {
   "cell_type": "code",
   "execution_count": 11,
   "metadata": {},
   "outputs": [
    {
     "name": "stderr",
     "output_type": "stream",
     "text": "2020-02-14 22:39:54,355 : INFO : collecting all words and their counts\n2020-02-14 22:39:54,359 : INFO : PROGRESS: at sentence #0, processed 0 words, keeping 0 word types\nTraining model.....\n2020-02-14 22:39:55,422 : INFO : PROGRESS: at sentence #10000, processed 1205223 words, keeping 51374 word types\n2020-02-14 22:39:56,482 : INFO : PROGRESS: at sentence #20000, processed 2396605 words, keeping 67660 word types\n2020-02-14 22:39:57,189 : INFO : collected 74065 word types from a corpus of 2988089 raw words and 25000 sentences\n2020-02-14 22:39:57,191 : INFO : Loading a fresh vocabulary\n2020-02-14 22:39:58,140 : INFO : effective_min_count=40 retains 8160 unique words (11% of original 74065, drops 65905)\n2020-02-14 22:39:58,144 : INFO : effective_min_count=40 leaves 2627273 word corpus (87% of original 2988089, drops 360816)\n2020-02-14 22:39:58,307 : INFO : deleting the raw counts dictionary of 74065 items\n2020-02-14 22:39:58,314 : INFO : sample=0.001 downsamples 30 most-common words\n2020-02-14 22:39:58,320 : INFO : downsampling leaves estimated 2494384 word corpus (94.9% of prior 2627273)\n2020-02-14 22:39:58,449 : INFO : estimated required memory for 8160 words and 300 dimensions: 23664000 bytes\n2020-02-14 22:39:58,457 : INFO : resetting layer weights\n2020-02-14 22:40:12,119 : INFO : training model with 4 workers on 8160 vocabulary and 300 features, using sg=0 hs=0 sample=0.001 negative=5 window=10\n2020-02-14 22:40:13,236 : INFO : EPOCH 1 - PROGRESS: at 5.64% examples, 135092 words/s, in_qsize 8, out_qsize 0\n2020-02-14 22:40:14,307 : INFO : EPOCH 1 - PROGRESS: at 11.23% examples, 133211 words/s, in_qsize 8, out_qsize 0\n2020-02-14 22:40:15,373 : INFO : EPOCH 1 - PROGRESS: at 16.94% examples, 135180 words/s, in_qsize 7, out_qsize 0\n2020-02-14 22:40:16,411 : INFO : EPOCH 1 - PROGRESS: at 23.18% examples, 139162 words/s, in_qsize 8, out_qsize 0\n2020-02-14 22:40:17,415 : INFO : EPOCH 1 - PROGRESS: at 28.84% examples, 139446 words/s, in_qsize 7, out_qsize 0\n2020-02-14 22:40:18,431 : INFO : EPOCH 1 - PROGRESS: at 33.16% examples, 133943 words/s, in_qsize 8, out_qsize 0\n2020-02-14 22:40:19,436 : INFO : EPOCH 1 - PROGRESS: at 37.39% examples, 130230 words/s, in_qsize 7, out_qsize 0\n2020-02-14 22:40:20,471 : INFO : EPOCH 1 - PROGRESS: at 41.11% examples, 124934 words/s, in_qsize 8, out_qsize 0\n2020-02-14 22:40:21,499 : INFO : EPOCH 1 - PROGRESS: at 44.45% examples, 120005 words/s, in_qsize 7, out_qsize 0\n2020-02-14 22:40:22,510 : INFO : EPOCH 1 - PROGRESS: at 48.08% examples, 117087 words/s, in_qsize 8, out_qsize 0\n2020-02-14 22:40:23,531 : INFO : EPOCH 1 - PROGRESS: at 51.37% examples, 113867 words/s, in_qsize 7, out_qsize 0\n2020-02-14 22:40:24,539 : INFO : EPOCH 1 - PROGRESS: at 53.88% examples, 109909 words/s, in_qsize 8, out_qsize 0\n2020-02-14 22:40:25,623 : INFO : EPOCH 1 - PROGRESS: at 57.58% examples, 107825 words/s, in_qsize 8, out_qsize 0\n2020-02-14 22:40:26,688 : INFO : EPOCH 1 - PROGRESS: at 61.61% examples, 106787 words/s, in_qsize 8, out_qsize 0\n2020-02-14 22:40:27,692 : INFO : EPOCH 1 - PROGRESS: at 65.10% examples, 105241 words/s, in_qsize 8, out_qsize 0\n2020-02-14 22:40:28,743 : INFO : EPOCH 1 - PROGRESS: at 67.71% examples, 102577 words/s, in_qsize 7, out_qsize 0\n2020-02-14 22:40:29,831 : INFO : EPOCH 1 - PROGRESS: at 70.97% examples, 100944 words/s, in_qsize 8, out_qsize 0\n2020-02-14 22:40:30,993 : INFO : EPOCH 1 - PROGRESS: at 75.28% examples, 100424 words/s, in_qsize 8, out_qsize 0\n2020-02-14 22:40:32,053 : INFO : EPOCH 1 - PROGRESS: at 79.41% examples, 100081 words/s, in_qsize 8, out_qsize 0\n2020-02-14 22:40:33,107 : INFO : EPOCH 1 - PROGRESS: at 83.34% examples, 99788 words/s, in_qsize 7, out_qsize 0\n2020-02-14 22:40:34,190 : INFO : EPOCH 1 - PROGRESS: at 87.17% examples, 99386 words/s, in_qsize 8, out_qsize 0\n2020-02-14 22:40:35,236 : INFO : EPOCH 1 - PROGRESS: at 91.35% examples, 99169 words/s, in_qsize 7, out_qsize 0\n2020-02-14 22:40:36,252 : INFO : EPOCH 1 - PROGRESS: at 95.13% examples, 98767 words/s, in_qsize 8, out_qsize 0\n2020-02-14 22:40:37,358 : INFO : EPOCH 1 - PROGRESS: at 98.83% examples, 98033 words/s, in_qsize 4, out_qsize 0\n2020-02-14 22:40:37,443 : INFO : worker thread finished; awaiting finish of 3 more threads\n2020-02-14 22:40:37,446 : INFO : worker thread finished; awaiting finish of 2 more threads\n2020-02-14 22:40:37,481 : INFO : worker thread finished; awaiting finish of 1 more threads\n2020-02-14 22:40:37,591 : INFO : worker thread finished; awaiting finish of 0 more threads\n2020-02-14 22:40:37,595 : INFO : EPOCH - 1 : training on 2988089 raw words (2493990 effective words) took 25.4s, 98203 effective words/s\n2020-02-14 22:40:38,815 : INFO : EPOCH 2 - PROGRESS: at 2.98% examples, 72512 words/s, in_qsize 7, out_qsize 0\n2020-02-14 22:40:39,911 : INFO : EPOCH 2 - PROGRESS: at 6.88% examples, 81872 words/s, in_qsize 8, out_qsize 0\n2020-02-14 22:40:41,038 : INFO : EPOCH 2 - PROGRESS: at 10.16% examples, 78951 words/s, in_qsize 8, out_qsize 0\n2020-02-14 22:40:42,155 : INFO : EPOCH 2 - PROGRESS: at 14.04% examples, 81394 words/s, in_qsize 7, out_qsize 0\n2020-02-14 22:40:43,192 : INFO : EPOCH 2 - PROGRESS: at 17.95% examples, 84109 words/s, in_qsize 8, out_qsize 1\n2020-02-14 22:40:44,286 : INFO : EPOCH 2 - PROGRESS: at 21.79% examples, 85240 words/s, in_qsize 7, out_qsize 0\n2020-02-14 22:40:45,289 : INFO : EPOCH 2 - PROGRESS: at 25.60% examples, 85957 words/s, in_qsize 8, out_qsize 0\n2020-02-14 22:40:46,396 : INFO : EPOCH 2 - PROGRESS: at 30.16% examples, 88428 words/s, in_qsize 7, out_qsize 0\n2020-02-14 22:40:47,562 : INFO : EPOCH 2 - PROGRESS: at 34.47% examples, 88853 words/s, in_qsize 7, out_qsize 0\n2020-02-14 22:40:48,634 : INFO : EPOCH 2 - PROGRESS: at 38.76% examples, 90025 words/s, in_qsize 7, out_qsize 0\n2020-02-14 22:40:49,682 : INFO : EPOCH 2 - PROGRESS: at 42.76% examples, 90452 words/s, in_qsize 8, out_qsize 0\n2020-02-14 22:40:50,737 : INFO : EPOCH 2 - PROGRESS: at 46.80% examples, 90728 words/s, in_qsize 8, out_qsize 0\n2020-02-14 22:40:51,749 : INFO : EPOCH 2 - PROGRESS: at 49.68% examples, 89523 words/s, in_qsize 8, out_qsize 0\n2020-02-14 22:40:52,877 : INFO : EPOCH 2 - PROGRESS: at 53.88% examples, 89940 words/s, in_qsize 8, out_qsize 0\n2020-02-14 22:40:54,032 : INFO : EPOCH 2 - PROGRESS: at 57.25% examples, 88648 words/s, in_qsize 8, out_qsize 0\n2020-02-14 22:40:55,064 : INFO : EPOCH 2 - PROGRESS: at 60.26% examples, 87677 words/s, in_qsize 7, out_qsize 0\n2020-02-14 22:40:56,202 : INFO : EPOCH 2 - PROGRESS: at 64.00% examples, 87231 words/s, in_qsize 8, out_qsize 0\n2020-02-14 22:40:57,314 : INFO : EPOCH 2 - PROGRESS: at 67.36% examples, 86530 words/s, in_qsize 8, out_qsize 0\n2020-02-14 22:40:58,347 : INFO : EPOCH 2 - PROGRESS: at 69.97% examples, 85398 words/s, in_qsize 7, out_qsize 0\n2020-02-14 22:40:59,427 : INFO : EPOCH 2 - PROGRESS: at 73.60% examples, 85341 words/s, in_qsize 8, out_qsize 0\n2020-02-14 22:41:00,526 : INFO : EPOCH 2 - PROGRESS: at 77.05% examples, 84859 words/s, in_qsize 8, out_qsize 1\n2020-02-14 22:41:01,554 : INFO : EPOCH 2 - PROGRESS: at 80.47% examples, 84668 words/s, in_qsize 7, out_qsize 0\n2020-02-14 22:41:02,647 : INFO : EPOCH 2 - PROGRESS: at 83.34% examples, 83948 words/s, in_qsize 8, out_qsize 0\n2020-02-14 22:41:03,679 : INFO : EPOCH 2 - PROGRESS: at 86.86% examples, 84118 words/s, in_qsize 7, out_qsize 0\n2020-02-14 22:41:04,769 : INFO : EPOCH 2 - PROGRESS: at 91.35% examples, 84691 words/s, in_qsize 7, out_qsize 0\n2020-02-14 22:41:05,797 : INFO : EPOCH 2 - PROGRESS: at 95.13% examples, 84836 words/s, in_qsize 7, out_qsize 0\n2020-02-14 22:41:06,817 : INFO : EPOCH 2 - PROGRESS: at 98.83% examples, 84978 words/s, in_qsize 4, out_qsize 0\n2020-02-14 22:41:06,862 : INFO : worker thread finished; awaiting finish of 3 more threads\n2020-02-14 22:41:06,910 : INFO : worker thread finished; awaiting finish of 2 more threads\n2020-02-14 22:41:06,958 : INFO : worker thread finished; awaiting finish of 1 more threads\n2020-02-14 22:41:07,027 : INFO : worker thread finished; awaiting finish of 0 more threads\n2020-02-14 22:41:07,029 : INFO : EPOCH - 2 : training on 2988089 raw words (2494014 effective words) took 29.2s, 85308 effective words/s\n2020-02-14 22:41:08,467 : INFO : EPOCH 3 - PROGRESS: at 2.98% examples, 66016 words/s, in_qsize 8, out_qsize 0\n2020-02-14 22:41:09,559 : INFO : EPOCH 3 - PROGRESS: at 6.88% examples, 78209 words/s, in_qsize 7, out_qsize 0\n2020-02-14 22:41:10,595 : INFO : EPOCH 3 - PROGRESS: at 10.90% examples, 83872 words/s, in_qsize 8, out_qsize 0\n2020-02-14 22:41:11,657 : INFO : EPOCH 3 - PROGRESS: at 13.78% examples, 80466 words/s, in_qsize 7, out_qsize 0\n2020-02-14 22:41:12,731 : INFO : EPOCH 3 - PROGRESS: at 16.65% examples, 78135 words/s, in_qsize 8, out_qsize 0\n2020-02-14 22:41:13,856 : INFO : EPOCH 3 - PROGRESS: at 20.20% examples, 78609 words/s, in_qsize 8, out_qsize 0\n2020-02-14 22:41:14,965 : INFO : EPOCH 3 - PROGRESS: at 23.18% examples, 76949 words/s, in_qsize 8, out_qsize 0\n2020-02-14 22:41:15,969 : INFO : EPOCH 3 - PROGRESS: at 26.57% examples, 77594 words/s, in_qsize 8, out_qsize 0\n2020-02-14 22:41:17,053 : INFO : EPOCH 3 - PROGRESS: at 29.82% examples, 77501 words/s, in_qsize 8, out_qsize 0\n2020-02-14 22:41:18,224 : INFO : EPOCH 3 - PROGRESS: at 33.82% examples, 78254 words/s, in_qsize 8, out_qsize 0\n2020-02-14 22:41:19,344 : INFO : EPOCH 3 - PROGRESS: at 37.39% examples, 78549 words/s, in_qsize 7, out_qsize 0\n2020-02-14 22:41:20,383 : INFO : EPOCH 3 - PROGRESS: at 41.79% examples, 80559 words/s, in_qsize 8, out_qsize 0\n2020-02-14 22:41:21,395 : INFO : EPOCH 3 - PROGRESS: at 46.13% examples, 82400 words/s, in_qsize 7, out_qsize 0\n2020-02-14 22:41:22,400 : INFO : EPOCH 3 - PROGRESS: at 50.00% examples, 83526 words/s, in_qsize 8, out_qsize 0\n2020-02-14 22:41:23,450 : INFO : EPOCH 3 - PROGRESS: at 53.88% examples, 84232 words/s, in_qsize 7, out_qsize 0\n2020-02-14 22:41:24,634 : INFO : EPOCH 3 - PROGRESS: at 57.58% examples, 83738 words/s, in_qsize 8, out_qsize 0\n2020-02-14 22:41:25,657 : INFO : EPOCH 3 - PROGRESS: at 61.28% examples, 84060 words/s, in_qsize 7, out_qsize 0\n2020-02-14 22:41:26,666 : INFO : EPOCH 3 - PROGRESS: at 64.40% examples, 83553 words/s, in_qsize 7, out_qsize 0\n2020-02-14 22:41:27,747 : INFO : EPOCH 3 - PROGRESS: at 68.05% examples, 83600 words/s, in_qsize 8, out_qsize 0\n2020-02-14 22:41:28,808 : INFO : EPOCH 3 - PROGRESS: at 71.28% examples, 83322 words/s, in_qsize 7, out_qsize 0\n2020-02-14 22:41:29,935 : INFO : EPOCH 3 - PROGRESS: at 75.63% examples, 83924 words/s, in_qsize 8, out_qsize 0\n2020-02-14 22:41:30,945 : INFO : EPOCH 3 - PROGRESS: at 78.70% examples, 83506 words/s, in_qsize 8, out_qsize 0\n2020-02-14 22:41:32,055 : INFO : EPOCH 3 - PROGRESS: at 83.01% examples, 84114 words/s, in_qsize 7, out_qsize 0\n2020-02-14 22:41:33,058 : INFO : EPOCH 3 - PROGRESS: at 86.58% examples, 84371 words/s, in_qsize 8, out_qsize 0\n2020-02-14 22:41:34,070 : INFO : EPOCH 3 - PROGRESS: at 90.68% examples, 84898 words/s, in_qsize 7, out_qsize 0\n2020-02-14 22:41:35,168 : INFO : EPOCH 3 - PROGRESS: at 94.82% examples, 85108 words/s, in_qsize 8, out_qsize 0\n2020-02-14 22:41:36,218 : INFO : EPOCH 3 - PROGRESS: at 98.12% examples, 84852 words/s, in_qsize 6, out_qsize 0\n2020-02-14 22:41:36,384 : INFO : worker thread finished; awaiting finish of 3 more threads\n2020-02-14 22:41:36,465 : INFO : worker thread finished; awaiting finish of 2 more threads\n2020-02-14 22:41:36,586 : INFO : worker thread finished; awaiting finish of 1 more threads\n2020-02-14 22:41:36,649 : INFO : worker thread finished; awaiting finish of 0 more threads\n2020-02-14 22:41:36,652 : INFO : EPOCH - 3 : training on 2988089 raw words (2494425 effective words) took 29.3s, 85109 effective words/s\n2020-02-14 22:41:37,763 : INFO : EPOCH 4 - PROGRESS: at 3.68% examples, 88236 words/s, in_qsize 7, out_qsize 0\n2020-02-14 22:41:38,851 : INFO : EPOCH 4 - PROGRESS: at 5.95% examples, 70179 words/s, in_qsize 7, out_qsize 0\n2020-02-14 22:41:40,034 : INFO : EPOCH 4 - PROGRESS: at 9.51% examples, 72654 words/s, in_qsize 7, out_qsize 0\n2020-02-14 22:41:41,098 : INFO : EPOCH 4 - PROGRESS: at 13.18% examples, 75832 words/s, in_qsize 8, out_qsize 0\n2020-02-14 22:41:42,192 : INFO : EPOCH 4 - PROGRESS: at 15.95% examples, 74143 words/s, in_qsize 8, out_qsize 0\n2020-02-14 22:41:43,209 : INFO : EPOCH 4 - PROGRESS: at 19.26% examples, 75262 words/s, in_qsize 8, out_qsize 0\n2020-02-14 22:41:44,240 : INFO : EPOCH 4 - PROGRESS: at 22.86% examples, 77041 words/s, in_qsize 8, out_qsize 0\n2020-02-14 22:41:45,327 : INFO : EPOCH 4 - PROGRESS: at 27.24% examples, 79854 words/s, in_qsize 8, out_qsize 0\n2020-02-14 22:41:46,376 : INFO : EPOCH 4 - PROGRESS: at 30.16% examples, 78912 words/s, in_qsize 7, out_qsize 0\n2020-02-14 22:41:47,468 : INFO : EPOCH 4 - PROGRESS: at 33.15% examples, 77813 words/s, in_qsize 7, out_qsize 0\n2020-02-14 22:41:48,508 : INFO : EPOCH 4 - PROGRESS: at 37.01% examples, 79362 words/s, in_qsize 8, out_qsize 0\n2020-02-14 22:41:49,565 : INFO : EPOCH 4 - PROGRESS: at 40.81% examples, 79938 words/s, in_qsize 8, out_qsize 0\n2020-02-14 22:41:50,578 : INFO : EPOCH 4 - PROGRESS: at 43.80% examples, 79490 words/s, in_qsize 8, out_qsize 0\n2020-02-14 22:41:51,648 : INFO : EPOCH 4 - PROGRESS: at 47.48% examples, 79876 words/s, in_qsize 8, out_qsize 0\n2020-02-14 22:41:52,679 : INFO : EPOCH 4 - PROGRESS: at 51.34% examples, 80975 words/s, in_qsize 8, out_qsize 0\n2020-02-14 22:41:53,684 : INFO : EPOCH 4 - PROGRESS: at 55.23% examples, 82020 words/s, in_qsize 8, out_qsize 0\n2020-02-14 22:41:54,695 : INFO : EPOCH 4 - PROGRESS: at 59.25% examples, 82939 words/s, in_qsize 8, out_qsize 0\n2020-02-14 22:41:55,749 : INFO : EPOCH 4 - PROGRESS: at 63.67% examples, 84031 words/s, in_qsize 7, out_qsize 0\n2020-02-14 22:41:56,894 : INFO : EPOCH 4 - PROGRESS: at 67.36% examples, 83800 words/s, in_qsize 7, out_qsize 0\n2020-02-14 22:41:57,944 : INFO : EPOCH 4 - PROGRESS: at 71.00% examples, 83948 words/s, in_qsize 7, out_qsize 0\n2020-02-14 22:41:58,965 : INFO : EPOCH 4 - PROGRESS: at 74.26% examples, 83807 words/s, in_qsize 7, out_qsize 0\n2020-02-14 22:42:00,057 : INFO : EPOCH 4 - PROGRESS: at 78.36% examples, 84144 words/s, in_qsize 7, out_qsize 0\n2020-02-14 22:42:01,104 : INFO : EPOCH 4 - PROGRESS: at 81.75% examples, 83924 words/s, in_qsize 7, out_qsize 0\n2020-02-14 22:42:02,206 : INFO : EPOCH 4 - PROGRESS: at 84.28% examples, 82908 words/s, in_qsize 8, out_qsize 0\n2020-02-14 22:42:03,392 : INFO : EPOCH 4 - PROGRESS: at 86.86% examples, 81698 words/s, in_qsize 8, out_qsize 0\n2020-02-14 22:42:04,441 : INFO : EPOCH 4 - PROGRESS: at 90.03% examples, 81292 words/s, in_qsize 7, out_qsize 0\n2020-02-14 22:42:05,502 : INFO : EPOCH 4 - PROGRESS: at 93.84% examples, 81436 words/s, in_qsize 7, out_qsize 0\n2020-02-14 22:42:06,703 : INFO : EPOCH 4 - PROGRESS: at 97.78% examples, 81473 words/s, in_qsize 7, out_qsize 0\n2020-02-14 22:42:07,021 : INFO : worker thread finished; awaiting finish of 3 more threads\n2020-02-14 22:42:07,030 : INFO : worker thread finished; awaiting finish of 2 more threads\n2020-02-14 22:42:07,090 : INFO : worker thread finished; awaiting finish of 1 more threads\n2020-02-14 22:42:07,171 : INFO : worker thread finished; awaiting finish of 0 more threads\n2020-02-14 22:42:07,176 : INFO : EPOCH - 4 : training on 2988089 raw words (2494159 effective words) took 30.4s, 81934 effective words/s\n2020-02-14 22:42:08,337 : INFO : EPOCH 5 - PROGRESS: at 2.98% examples, 68141 words/s, in_qsize 8, out_qsize 0\n2020-02-14 22:42:09,478 : INFO : EPOCH 5 - PROGRESS: at 7.21% examples, 81515 words/s, in_qsize 8, out_qsize 0\n2020-02-14 22:42:10,502 : INFO : EPOCH 5 - PROGRESS: at 10.58% examples, 81321 words/s, in_qsize 8, out_qsize 0\n2020-02-14 22:42:11,578 : INFO : EPOCH 5 - PROGRESS: at 14.04% examples, 82001 words/s, in_qsize 7, out_qsize 0\n2020-02-14 22:42:12,590 : INFO : EPOCH 5 - PROGRESS: at 17.26% examples, 81890 words/s, in_qsize 8, out_qsize 0\n2020-02-14 22:42:13,646 : INFO : EPOCH 5 - PROGRESS: at 20.52% examples, 81313 words/s, in_qsize 7, out_qsize 0\n2020-02-14 22:42:14,698 : INFO : EPOCH 5 - PROGRESS: at 23.56% examples, 79842 words/s, in_qsize 7, out_qsize 0\n2020-02-14 22:42:15,722 : INFO : EPOCH 5 - PROGRESS: at 26.57% examples, 78977 words/s, in_qsize 7, out_qsize 0\n2020-02-14 22:42:16,783 : INFO : EPOCH 5 - PROGRESS: at 29.53% examples, 78017 words/s, in_qsize 8, out_qsize 0\n2020-02-14 22:42:17,855 : INFO : EPOCH 5 - PROGRESS: at 33.15% examples, 78736 words/s, in_qsize 8, out_qsize 0\n2020-02-14 22:42:18,939 : INFO : EPOCH 5 - PROGRESS: at 36.03% examples, 77781 words/s, in_qsize 7, out_qsize 0\n2020-02-14 22:42:19,962 : INFO : EPOCH 5 - PROGRESS: at 39.47% examples, 78066 words/s, in_qsize 8, out_qsize 0\n2020-02-14 22:42:21,002 : INFO : EPOCH 5 - PROGRESS: at 42.76% examples, 78186 words/s, in_qsize 7, out_qsize 0\n2020-02-14 22:42:22,089 : INFO : EPOCH 5 - PROGRESS: at 46.13% examples, 78013 words/s, in_qsize 8, out_qsize 0\n2020-02-14 22:42:23,251 : INFO : EPOCH 5 - PROGRESS: at 49.68% examples, 78075 words/s, in_qsize 8, out_qsize 0\n2020-02-14 22:42:24,301 : INFO : EPOCH 5 - PROGRESS: at 52.93% examples, 78115 words/s, in_qsize 8, out_qsize 0\n2020-02-14 22:42:25,319 : INFO : EPOCH 5 - PROGRESS: at 56.52% examples, 78752 words/s, in_qsize 8, out_qsize 0\n2020-02-14 22:42:26,400 : INFO : EPOCH 5 - PROGRESS: at 60.64% examples, 79513 words/s, in_qsize 8, out_qsize 0\n2020-02-14 22:42:27,481 : INFO : EPOCH 5 - PROGRESS: at 64.40% examples, 79796 words/s, in_qsize 7, out_qsize 0\n2020-02-14 22:42:28,551 : INFO : EPOCH 5 - PROGRESS: at 68.68% examples, 80852 words/s, in_qsize 8, out_qsize 0\n2020-02-14 22:42:29,582 : INFO : EPOCH 5 - PROGRESS: at 72.32% examples, 81188 words/s, in_qsize 8, out_qsize 0\n2020-02-14 22:42:30,703 : INFO : EPOCH 5 - PROGRESS: at 75.63% examples, 80836 words/s, in_qsize 7, out_qsize 0\n2020-02-14 22:42:31,858 : INFO : EPOCH 5 - PROGRESS: at 78.70% examples, 80084 words/s, in_qsize 7, out_qsize 0\n2020-02-14 22:42:32,912 : INFO : EPOCH 5 - PROGRESS: at 82.36% examples, 80348 words/s, in_qsize 8, out_qsize 0\n2020-02-14 22:42:33,924 : INFO : EPOCH 5 - PROGRESS: at 84.99% examples, 79773 words/s, in_qsize 7, out_qsize 0\n2020-02-14 22:42:35,009 : INFO : EPOCH 5 - PROGRESS: at 88.58% examples, 79945 words/s, in_qsize 6, out_qsize 1\n2020-02-14 22:42:36,125 : INFO : EPOCH 5 - PROGRESS: at 92.77% examples, 80274 words/s, in_qsize 8, out_qsize 0\n2020-02-14 22:42:37,131 : INFO : EPOCH 5 - PROGRESS: at 96.42% examples, 80614 words/s, in_qsize 7, out_qsize 0\n2020-02-14 22:42:37,882 : INFO : worker thread finished; awaiting finish of 3 more threads\n2020-02-14 22:42:37,945 : INFO : worker thread finished; awaiting finish of 2 more threads\n2020-02-14 22:42:38,038 : INFO : worker thread finished; awaiting finish of 1 more threads\n2020-02-14 22:42:38,082 : INFO : worker thread finished; awaiting finish of 0 more threads\n2020-02-14 22:42:38,085 : INFO : EPOCH - 5 : training on 2988089 raw words (2494301 effective words) took 30.8s, 80888 effective words/s\n2020-02-14 22:42:38,088 : INFO : training on a 14940445 raw words (12470889 effective words) took 146.0s, 85436 effective words/s\n"
    }
   ],
   "source": [
    "from gensim.models import word2vec\n",
    "\n",
    "print(\"Training model.....\")\n",
    "model = word2vec.Word2Vec(\n",
    "    sentences,\n",
    "    workers = num_workers,\n",
    "    size = num_features,\n",
    "    min_count = min_word_count,\n",
    "    window = context,\n",
    "    sample = downsampling)"
   ]
  },
  {
   "cell_type": "markdown",
   "metadata": {},
   "source": [
    "- 모델의 하이퍼파라미터를 설정한 내용을 모델 이름에 담는다면 나중에 참고하기에 좋을 것이다.\n",
    "- 모델을 저장하면 Word2Vec.load()를 통해 모델을 다시 사용할 수 있다."
   ]
  },
  {
   "cell_type": "code",
   "execution_count": 12,
   "metadata": {},
   "outputs": [
    {
     "name": "stderr",
     "output_type": "stream",
     "text": "2020-02-14 22:45:45,905 : INFO : saving Word2Vec object under 300features_10minwords_10context, separately None\n2020-02-14 22:45:45,907 : INFO : not storing attribute vectors_norm\n2020-02-14 22:45:45,911 : INFO : not storing attribute cum_table\n2020-02-14 22:45:46,672 : INFO : saved 300features_10minwords_10context\n"
    }
   ],
   "source": [
    "model_name = \"300features_10minwords_10context\"\n",
    "model.save(model_name)"
   ]
  },
  {
   "cell_type": "markdown",
   "metadata": {},
   "source": [
    "### 선형 회귀 모델 학습"
   ]
  },
  {
   "cell_type": "markdown",
   "metadata": {},
   "source": [
    "- 입력값 만드는 방법\n",
    "    - 문장에 있는 모든 단어의 벡터값에 대해 평균을 내서 리뷰 하나당 하나의 벡터로 만드는 방법"
   ]
  },
  {
   "cell_type": "code",
   "execution_count": 16,
   "metadata": {},
   "outputs": [],
   "source": [
    "# 하나의 리뷰에 대해 전체 단어의 평균값을 계산하는 함수\n",
    "def get_features(words, model, num_features):\n",
    "    # 출력 벡터 초기화\n",
    "    feature_vector = np.zeros((num_features), dtype=np.float32)\n",
    "\n",
    "    num_words = 0\n",
    "\n",
    "    # 어휘사전 준비\n",
    "    index2word_set = set(model.wv.index2word)\n",
    "\n",
    "    for w in words:\n",
    "        if w in index2word_set:\n",
    "            num_words += 1\n",
    "            # 사전에 해당하는 단어에 대해 단어 벡터를 더함\n",
    "            feature_vector = np.add(feature_vector, model[w])\n",
    "\n",
    "    # 문장의 단어 수만큼 나누어 단어 벡터의 평균값을 문장 벡터로 함\n",
    "    feature_vector = np.divide(feature_vector, num_words)\n",
    "    return feature_vector"
   ]
  },
  {
   "cell_type": "markdown",
   "metadata": {},
   "source": [
    "- words\n",
    "    - 단어의 모음인 하나의 리뷰가 들어간다.\n",
    "\n",
    "- model\n",
    "    - word2vec 모델을 넣는 곳이며, 우리가 학습한 word2vec 모델이 들어간다.\n",
    "\n",
    "- num_features\n",
    "    - word2vec으로 임베딩할때 정했던 벡터의 차원 수를 뜻한다."
   ]
  },
  {
   "cell_type": "code",
   "execution_count": null,
   "metadata": {},
   "outputs": [],
   "source": []
  },
  {
   "cell_type": "code",
   "execution_count": null,
   "metadata": {},
   "outputs": [],
   "source": []
  },
  {
   "cell_type": "code",
   "execution_count": null,
   "metadata": {},
   "outputs": [],
   "source": []
  },
  {
   "cell_type": "code",
   "execution_count": null,
   "metadata": {},
   "outputs": [],
   "source": []
  },
  {
   "cell_type": "code",
   "execution_count": null,
   "metadata": {},
   "outputs": [],
   "source": []
  }
 ]
}