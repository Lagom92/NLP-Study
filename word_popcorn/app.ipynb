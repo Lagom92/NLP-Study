{
 "nbformat": 4,
 "nbformat_minor": 2,
 "metadata": {
  "language_info": {
   "name": "python",
   "codemirror_mode": {
    "name": "ipython",
    "version": 3
   },
   "version": "3.7.6-final"
  },
  "orig_nbformat": 2,
  "file_extension": ".py",
  "mimetype": "text/x-python",
  "name": "python",
  "npconvert_exporter": "python",
  "pygments_lexer": "ipython3",
  "version": 3,
  "kernelspec": {
   "name": "python37664bitnlpconda2e37df55ef7041bb8d56bf0ba20910ea",
   "display_name": "Python 3.7.6 64-bit ('NLP': conda)"
  }
 },
 "cells": [
  {
   "cell_type": "markdown",
   "execution_count": 1,
   "metadata": {},
   "outputs": [
    {
     "data": {
      "text/plain": "1"
     },
     "execution_count": 1,
     "metadata": {},
     "output_type": "execute_result"
    }
   ],
   "source": [
    "# 데이터 분석하기"
   ]
  },
  {
   "cell_type": "code",
   "execution_count": 7,
   "metadata": {},
   "outputs": [],
   "source": [
    "import os\n",
    "import numpy as np \n",
    "import pandas as pd \n",
    "import matplotlib.pyplot as plt \n",
    "import seaborn as sns\n",
    "%matplotlib inline "
   ]
  },
  {
   "cell_type": "code",
   "execution_count": 21,
   "metadata": {},
   "outputs": [],
   "source": [
    "# pandas의 데이터프레임 형태로 데이터 불러오기\n",
    "data_in_path = './sources/'\n",
    "train_data_path = data_in_path + 'labeledTrainData.tsv'\n",
    "train_data = pd.read_csv(train_data_path, header=0, delimiter='\\t', quoting=3)"
   ]
  },
  {
   "cell_type": "markdown",
   "execution_count": null,
   "metadata": {},
   "outputs": [],
   "source": [
    "- 사용할 데이터가 탭(\\t)으로 구분되어 있으므로 delimeter 인자에 '\\t'를 설정\n",
    "- 각 데이터에 각 항목명(Header)이 포함돼 있기 때문에 header 인자에 0을 설정\n",
    "- 쌍따옴표를 무시하기 위해 quoting 인자에 3을 설정"
   ]
  },
  {
   "cell_type": "code",
   "execution_count": 22,
   "metadata": {},
   "outputs": [
    {
     "data": {
      "text/html": "<div>\n<style scoped>\n    .dataframe tbody tr th:only-of-type {\n        vertical-align: middle;\n    }\n\n    .dataframe tbody tr th {\n        vertical-align: top;\n    }\n\n    .dataframe thead th {\n        text-align: right;\n    }\n</style>\n<table border=\"1\" class=\"dataframe\">\n  <thead>\n    <tr style=\"text-align: right;\">\n      <th></th>\n      <th>id</th>\n      <th>sentiment</th>\n      <th>review</th>\n    </tr>\n  </thead>\n  <tbody>\n    <tr>\n      <th>0</th>\n      <td>\"5814_8\"</td>\n      <td>1</td>\n      <td>\"With all this stuff going down at the moment ...</td>\n    </tr>\n    <tr>\n      <th>1</th>\n      <td>\"2381_9\"</td>\n      <td>1</td>\n      <td>\"\\\"The Classic War of the Worlds\\\" by Timothy ...</td>\n    </tr>\n    <tr>\n      <th>2</th>\n      <td>\"7759_3\"</td>\n      <td>0</td>\n      <td>\"The film starts with a manager (Nicholas Bell...</td>\n    </tr>\n    <tr>\n      <th>3</th>\n      <td>\"3630_4\"</td>\n      <td>0</td>\n      <td>\"It must be assumed that those who praised thi...</td>\n    </tr>\n    <tr>\n      <th>4</th>\n      <td>\"9495_8\"</td>\n      <td>1</td>\n      <td>\"Superbly trashy and wondrously unpretentious ...</td>\n    </tr>\n  </tbody>\n</table>\n</div>",
      "text/plain": "         id  sentiment                                             review\n0  \"5814_8\"          1  \"With all this stuff going down at the moment ...\n1  \"2381_9\"          1  \"\\\"The Classic War of the Worlds\\\" by Timothy ...\n2  \"7759_3\"          0  \"The film starts with a manager (Nicholas Bell...\n3  \"3630_4\"          0  \"It must be assumed that those who praised thi...\n4  \"9495_8\"          1  \"Superbly trashy and wondrously unpretentious ..."
     },
     "execution_count": 22,
     "metadata": {},
     "output_type": "execute_result"
    }
   ],
   "source": [
    "# head 함수를 사용하여 상위 5개의 데이터 확인\n",
    "train_data.head()"
   ]
  },
  {
   "cell_type": "markdown",
   "execution_count": null,
   "metadata": {},
   "outputs": [],
   "source": [
    "### 데이터 분석 과정\n",
    "1. 데이터 크기\n",
    "2. 데이터의 개수\n",
    "3. 각 리뷰의 문자 길이 분포\n",
    "4. 많이 사용된 단어\n",
    "5. 긍정, 부정 데이터의 분포\n",
    "6. 각 리뷰의 단어 개수 분포\n",
    "7. 특수문자 및 대문자, 소문자 비율"
   ]
  },
  {
   "cell_type": "markdown",
   "execution_count": null,
   "metadata": {},
   "outputs": [],
   "source": [
    "### 1. 데이터 크기"
   ]
  },
  {
   "cell_type": "code",
   "execution_count": 29,
   "metadata": {},
   "outputs": [
    {
     "name": "stdout",
     "output_type": "stream",
     "text": "File size: \nlabeledTrainData.tsv          33.56MB\ntestData.tsv                  32.72MB\nunlabeledTrainData.tsv        67.28MB\n"
    }
   ],
   "source": [
    "# 데이터 크기 확인\n",
    "print(\"File size: \")\n",
    "for file in os.listdir(data_in_path):\n",
    "    if 'tsv' in file:\n",
    "        print(file.ljust(30) + str(round(os.path.getsize(data_in_path + file) / 10**6 , 2)) + 'MB')"
   ]
  },
  {
   "cell_type": "markdown",
   "execution_count": null,
   "metadata": {},
   "outputs": [],
   "source": [
    "- os 라이브러리를 사용해 해당 경로의 파일 목록 가져오기\n",
    "- tsv 파일인지 확인\n",
    "- 라벨이 없는 데이터가 가장 큰것을 확인 할 수 있음\n"
   ]
  },
  {
   "cell_type": "code",
   "execution_count": null,
   "metadata": {},
   "outputs": [],
   "source": []
  },
  {
   "cell_type": "code",
   "execution_count": null,
   "metadata": {},
   "outputs": [],
   "source": []
  },
  {
   "cell_type": "code",
   "execution_count": null,
   "metadata": {},
   "outputs": [],
   "source": []
  },
  {
   "cell_type": "code",
   "execution_count": null,
   "metadata": {},
   "outputs": [],
   "source": []
  },
  {
   "cell_type": "code",
   "execution_count": null,
   "metadata": {},
   "outputs": [],
   "source": []
  }
 ]
}